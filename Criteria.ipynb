{
 "cells": [
  {
   "cell_type": "markdown",
   "metadata": {},
   "source": [
    "# Criteria"
   ]
  },
  {
   "cell_type": "code",
   "execution_count": 6,
   "metadata": {},
   "outputs": [
    {
     "name": "stderr",
     "output_type": "stream",
     "text": [
      "/var/folders/mk/3rm9f8jj0_54616_xx1g__n00000gn/T/ipykernel_86848/1274189169.py:70: DtypeWarning: Columns (10) have mixed types. Specify dtype option on import or set low_memory=False.\n",
      "  df_old = pd.read_csv('Dashboard.csv')\n"
     ]
    }
   ],
   "source": [
    "import pandas as pd\n",
    "import numpy as np\n",
    "\n",
    "df = pd.read_csv('Monthly_Update.csv')\n",
    "\n",
    "stimulants = ['Cocaine', 'Methamphetamine', 'Speed', 'Amphetamine']\n",
    "\n",
    "stimulant_set = df['Sold As/Expected Drug'].str.contains('|'.join(stimulants), case=False, na=False)\n",
    "\n",
    "stimulant_condition_cocaine = (df['Sold As/Expected Drug'].str.contains('Cocaine', case=False, na=False) &\n",
    "                               ~df['FTIR Spectrometer'].str.contains('Cocaine', case=False, na=False))\n",
    "\n",
    "stimulant_condition_meth_speed = (df['Sold As/Expected Drug'].str.contains('Methamphetamine|Speed', case=False, na=False) &\n",
    "                                  ~df['FTIR Spectrometer'].str.contains('Methamphetamine|Speed', case=False, na=False))\n",
    "\n",
    "stimulant_condition_amphetamine = (df['Sold As/Expected Drug'].str.contains('Amphetamine', case=False, na=False) &\n",
    "                                  ~df['FTIR Spectrometer'].str.contains('Amphetamine', case=False, na=False))\n",
    "\n",
    "stimulant_condition_fentanyl = (df['Fentanyl'] == 'Positive')\n",
    "\n",
    "stimulant_condition_benzodiazepine = (df['Benzodiazepine'] == 'Positive')\n",
    "\n",
    "stimulant_condition_levamisole = df['FTIR Spectrometer'].str.contains('Levamisole|Fentanyl|Bezodiazepine', case=False, na=False)\n",
    "\n",
    "df['Alert'] = 0\n",
    "\n",
    "stimulant_condition_alert = (stimulant_condition_cocaine | stimulant_condition_meth_speed |\n",
    "                     stimulant_condition_fentanyl | stimulant_condition_benzodiazepine |\n",
    "                     stimulant_condition_levamisole | stimulant_condition_amphetamine)\n",
    "\n",
    "df.loc[stimulant_set & stimulant_condition_alert, 'Alert'] = 1\n",
    "\n",
    "\n",
    "depressants = ['Fentanyl', 'Benzodiazepine', 'Heroin', 'Morphine']\n",
    "depressant_set = df['Sold As/Expected Drug'].str.contains('|'.join(depressants), case=False, na=False)\n",
    "depressant_condition1 = (df['Sold As/Expected Drug'].str.contains('Heroin', case=False, na=False) &\n",
    "                               ~df['FTIR Spectrometer'].str.contains('Heroin', case=False, na=False))\n",
    "depressant_condition2 = (df['Sold As/Expected Drug'].str.contains('Morphine', case=False, na=False) &\n",
    "                               ~df['FTIR Spectrometer'].str.contains('Morphine', case=False, na=False))\n",
    "\n",
    "depressant_condition3 = (df['FTIR Spectrometer'].str.contains('Xylazine', case=False, na=False) | \n",
    "                         df['FTIR Spectrometer'].str.contains('Nitazene', case=False, na=False))\n",
    "\n",
    "fentanyl_condition = (df['Sold As/Expected Drug'].str.contains('Fentanyl', case=False, na=False) &\n",
    "                      ~(df['Fentanyl'] == 'Positive') & ~df['FTIR Spectrometer'].str.contains('Fentanyl', case=False, na=False))\n",
    "\n",
    "benzo_condition = (df['Sold As/Expected Drug'].str.contains('Benzodiazepine', case=False, na=False) &\n",
    "                   ~(df['Benzodiazepine'] == 'Positive') & ~df['FTIR Spectrometer'].str.contains('Benzodiazepine', case=False, na=False))\n",
    "\n",
    "\n",
    "depressant_condition_alert = (depressant_condition1 | depressant_condition2 | depressant_condition3 | fentanyl_condition | benzo_condition )\n",
    "df.loc[depressant_set & depressant_condition_alert, 'Alert'] = 1\n",
    "\n",
    "\n",
    "\n",
    "condition_unspecified = (df['Fentanyl'] == 'Unspecified') | (df['Benzodiazepine'] == 'Unspecified')\n",
    "\n",
    "df['Uncertain Alert'] = 0 \n",
    "df.loc[(df['Alert'] != 1) & (stimulant_set & condition_unspecified), 'Uncertain Alert'] = 1\n",
    "\n",
    "\n",
    "\n",
    "df['Alert'] = df['Alert'].astype(int)\n",
    "df['Unified Alert'] = np.where((df['Alert'] == 1) | (df['Uncertain Alert'] == 1), 1, 0)\n",
    "df['Alert Type'] = 'No Alert'  \n",
    "\n",
    "df['Alert Type'] = np.where(df['Alert'] == 1, 'Alert', df['Alert Type'])\n",
    "df['Alert Type'] = np.where(df['Uncertain Alert'] == 1, 'Uncertain Alert', df['Alert Type'])\n",
    "\n",
    "df_old = pd.read_csv('Dashboard.csv')\n",
    "\n",
    "df_dashboard = df_old.merge(df, how = 'outer')\n",
    "df_dashboard = df_dashboard.drop_duplicates()\n",
    "new_column_order = ['Date','Location','Province','Address','Health Authority','Drug Checking Site','Sold As/Expected Drug','Category','Colour','Texture','Code','Fentanyl','Benzodiazepine','FTIR Spectrometer','Source','Alert','Uncertain Alert','Unified Alert','Alert Type']\n",
    "df_dashboard = df_dashboard[new_column_order]\n",
    "df_dashboard = df_dashboard.sort_values(by = 'Date', ascending = False)\n",
    "df_dashboard['Alert'] = df_dashboard['Alert'].clip(upper=1)\n",
    "df_dashboard.to_csv('Dashboard.csv', index=False)\n"
   ]
  }
 ],
 "metadata": {
  "kernelspec": {
   "display_name": "Python 3",
   "language": "python",
   "name": "python3"
  },
  "language_info": {
   "codemirror_mode": {
    "name": "ipython",
    "version": 3
   },
   "file_extension": ".py",
   "mimetype": "text/x-python",
   "name": "python",
   "nbconvert_exporter": "python",
   "pygments_lexer": "ipython3",
   "version": "3.9.6"
  }
 },
 "nbformat": 4,
 "nbformat_minor": 2
}
